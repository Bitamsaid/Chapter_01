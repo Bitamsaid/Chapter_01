{
 "cells": [
  {
   "cell_type": "markdown",
   "metadata": {},
   "source": [
    "# Python Fundamentals Tutorial for Chemistry Applications\n",
    "\n",
    "Welcome to the Python Fundamentals tutorial tailored for chemistry!\n",
    "\n",
    "This tutorial covers:\n",
    "- Core Python syntax essentials\n",
    "- Data types and variable use\n",
    "- Control flow with conditionals and loops\n",
    "- Functions and modular coding\n",
    "- Introduction to key scientific libraries\n",
    "- A simple workflow for chemical data processing"
   ]
  },
  {
   "cell_type": "markdown",
   "metadata": {},
   "source": [
    "## 🚀 Setup: Installing Necessary Libraries\n",
    "\n",
    "Before running the code examples in this notebook, please ensure all required scientific and cheminformatics libraries are installed. You can run the following command in a new code cell, or directly in your terminal/command prompt.\n",
    "\n",
    "**(Note:** If you are using a virtual environment like Conda, you might need to use `conda install` instead of `pip install` for some libraries like RDKit.)"
   ]
  },
  {
   "cell_type": "code",
   "execution_count": null,
   "metadata": {},
   "outputs": [],
   "source": [
    "#!pip install numpy pandas matplotlib seaborn scipy sympy rdkit pymatgen\n",
    "\n",
    "# Note: Uncomment the line above and run this cell to install the libraries.\n",
    "# If using Conda, RDKit is often installed via its own channel:\n",
    "# conda install -c conda-forge rdkit"
   ]
  },
  {
   "cell_type": "markdown",
   "metadata": {},
   "source": [
    "### Variables and Data Types"
   ]
  },
  {
   "cell_type": "code",
   "execution_count": null,
   "metadata": {},
   "outputs": [],
   "source": [
    "chemical_name = \"Caffeine\"      # string to hold compound name\n",
    "boiling_point = 178.12            # float for temperature in Celsius\n",
    "atomic_numbers = [6, 1, 7]      # list of atomic numbers (C, H, N)\n",
    "is_soluble = False               # boolean to represent solubility\n",
    "atom_count = 24                   # integer number of atoms\n",
    "\n",
    "print(f\"Compound: {chemical_name}\")\n",
    "print(f\"Boiling Point: {boiling_point} °C\")\n",
    "print(f\"Atoms present with atomic numbers: {atomic_numbers}\")\n",
    "print(f\"Water soluble?: {is_soluble}\")\n",
    "print(f\"Total atom count: {atom_count}\")"
   ]
  },
  {
   "cell_type": "markdown",
   "metadata": {},
   "source": [
    "### Basic Calculations and String Handling"
   ]
  },
  {
   "cell_type": "code",
   "execution_count": null,
   "metadata": {},
   "outputs": [],
   "source": [
    "mass_sample = 1.25              # grams\n",
    "molecular_weight = 194.19      # g/mol (approximate MW of caffeine)\n",
    "moles = mass_sample / molecular_weight\n",
    "print(f\"Moles in sample: {moles:.5f} mol\")\n",
    "\n",
    "formula = \"C8H10N4O2\"  # caffeine molecular formula\n",
    "print(f\"The molecular formula of {chemical_name} is {formula}.\")"
   ]
  },
  {
   "cell_type": "markdown",
   "metadata": {},
   "source": [
    "### Data Structures"
   ]
  },
  {
   "cell_type": "code",
   "execution_count": null,
   "metadata": {},
   "outputs": [],
   "source": [
    "solvent_list = [\"methanol\", \"chloroform\", \"hexane\"]  # mutable list\n",
    "melting_points = (234.0, -64.7, -95.0)                # tuple, immutable\n",
    "compound_props = {                                    # dictionary to hold data\n",
    "    \"Caffeine\": {\"MP\": 234.0, \"Solubility\": \"low\"},\n",
    "    \"Water\": {\"MP\": 0.0, \"Solubility\": \"high\"}\n",
    "}\n",
    "print(\"Solvents:\", solvent_list)\n",
    "print(\"Melting points (°C):\", melting_points)\n",
    "print(\"Compound properties dictionary:\", compound_props)"
   ]
  },
  {
   "cell_type": "markdown",
   "metadata": {},
   "source": [
    "### Control Flow"
   ]
  },
  {
   "cell_type": "code",
   "execution_count": null,
   "metadata": {},
   "outputs": [],
   "source": [
    "pH = 5.6\n",
    "if pH < 7:\n",
    "    print(\"Solution is acidic\")\n",
    "elif pH == 7:\n",
    "    print(\"Solution is neutral\")\n",
    "else:\n",
    "    print(\"Solution is basic\")\n",
    "\n",
    "element_symbols = [\"Na\", \"Cl\", \"O\", \"H\"]\n",
    "print(\"\\n--- Loops ---\")\n",
    "for element in element_symbols:\n",
    "    print(f\"Element: {element}\")"
   ]
  },
  {
   "cell_type": "markdown",
   "metadata": {},
   "source": [
    "### Functions"
   ]
  },
  {
   "cell_type": "code",
   "execution_count": null,
   "metadata": {},
   "outputs": [],
   "source": [
    "def calculate_molarity(moles, volume_liters):\n",
    "    \"\"\"Calculate molarity given moles and solution volume in liters.\"\"\" \n",
    "    return moles / volume_liters\n",
    "\n",
    "molarity = calculate_molarity(0.1, 0.5)\n",
    "print(f\"Molarity of solution: {molarity:.3f} M\")"
   ]
  },
  {
   "cell_type": "markdown",
   "metadata": {},
   "source": [
    "### Using Key Scientific Libraries"
   ]
  },
  {
   "cell_type": "markdown",
   "metadata": {},
   "source": [
    "### Pandas – Data Handling"
   ]
  },
  {
   "cell_type": "code",
   "execution_count": null,
   "metadata": {},
   "outputs": [],
   "source": [
    "import pandas as pd\n",
    "import numpy as np\n",
    "\n",
    "data = {\n",
    "    \"Compound\": [\"Ethanol\", \"Acetone\", \"Benzene\", \"Methanol\"],\n",
    "    \"Boiling Point (°C)\": [78.37, 56.05, 80.1, 64.7],\n",
    "    \"Molar Mass (g/mol)\": [46.07, 58.08, 78.11, 32.04],\n",
    "    \"Density (g/mL)\": [0.789, 0.784, 0.879, 0.791]\n",
    "}\n",
    "df = pd.DataFrame(data)\n",
    "print(\"Original DataFrame:\\n\", df)\n",
    "\n",
    "# Select a single column\n",
    "print(\"\\nBoiling Points:\\n\", df['Boiling Point (°C)'].describe())\n",
    "\n",
    "# Filter data based on a condition\n",
    "high_bp_compounds = df[df['Boiling Point (°C)'] > 70]\n",
    "print(\"\\nCompounds with Boiling Point > 70°C:\\n\", high_bp_compounds)\n"
   ]
  },
  {
   "cell_type": "markdown",
   "metadata": {},
   "source": [
    "### Matplotlib – Visualization"
   ]
  },
  {
   "cell_type": "code",
   "execution_count": null,
   "metadata": {},
   "outputs": [],
   "source": [
    "import matplotlib.pyplot as plt\n",
    "\n",
    "plt.figure(figsize=(8, 6))\n",
    "plt.scatter(df['Molar Mass (g/mol)'], df['Boiling Point (°C)'], color='b', marker='o')\n",
    "plt.title('Boiling Point vs. Molar Mass', fontsize=16)\n",
    "plt.xlabel('Molar Mass (g/mol)', fontsize=12)\n",
    "plt.ylabel('Boiling Point (°C)', fontsize=12)\n",
    "plt.grid(True)\n",
    "plt.show()"
   ]
  },
  {
   "cell_type": "markdown",
   "metadata": {},
   "source": [
    "### Seaborn – Statistical Data Visualization"
   ]
  },
  {
   "cell_type": "code",
   "execution_count": null,
   "metadata": {},
   "outputs": [],
   "source": [
    "import seaborn as sns\n",
    "\n",
    "sns.set_theme(style=\"whitegrid\")\n",
    "plt.figure(figsize=(10, 6))\n",
    "sns.barplot(x='Compound', y='Boiling Point (°C)', data=df, palette='viridis')\n",
    "plt.title('Boiling Points of Selected Compounds', fontsize=16)\n",
    "plt.xlabel('Compound', fontsize=12)\n",
    "plt.ylabel('Boiling Point (°C)', fontsize=12)\n",
    "plt.show()"
   ]
  },
  {
   "cell_type": "markdown",
   "metadata": {},
   "source": [
    "### RDKit – Cheminformatics"
   ]
  },
  {
   "cell_type": "code",
   "execution_count": null,
   "metadata": {},
   "outputs": [],
   "source": [
    "from rdkit import Chem\n",
    "from rdkit.Chem import Descriptors, Draw\n",
    "\n",
    "# Create a molecule object from a SMILES string\n",
    "mol = Chem.MolFromSmiles('CCC(=O)O') # SMILES for Propanoic acid\n",
    "if mol is not None:\n",
    "    print(f\"Molecule name: Propanoic acid\")\n",
    "    print(f\"Molecular Weight: {Descriptors.MolWt(mol):.2f}\")\n",
    "    print(f\"LogP (octanol-water partition coefficient): {Descriptors.MolLogP(mol):.2f}\")\n",
    "    display(Draw.MolToImage(mol)) # Display the molecular structure in the notebook"
   ]
  },
  {
   "cell_type": "markdown",
   "metadata": {},
   "source": [
    "### SciPy – Scientific Computing"
   ]
  },
  {
   "cell_type": "code",
   "execution_count": null,
   "metadata": {},
   "outputs": [],
   "source": [
    "from scipy.optimize import curve_fit\n",
    "\n",
    "# Let's fit a simple model for a chemical process\n",
    "# Example: Modeling a first-order reaction decay\n",
    "def first_order_decay(t, A, k):\n",
    "    return A * np.exp(-k * t)\n",
    "\n",
    "# Generate some example data\n",
    "t_data = np.linspace(0, 10, 50)\n",
    "C_data = 10 * np.exp(-0.5 * t_data) + np.random.normal(0, 0.5, t_data.size)\n",
    "\n",
    "# Fit the model to the data using curve_fit\n",
    "popt, pcov = curve_fit(first_order_decay, t_data, C_data)\n",
    "\n",
    "A_fit, k_fit = popt\n",
    "\n",
    "print(f\"Fitted initial concentration (A): {A_fit:.2f}\")\n",
    "print(f\"Fitted rate constant (k): {k_fit:.2f}\")\n",
    "\n",
    "plt.figure()\n",
    "plt.scatter(t_data, C_data, label='Experimental Data')\n",
    "plt.plot(t_data, first_order_decay(t_data, A_fit, k_fit), color='red', label='Fitted Curve')\n",
    "plt.title('First-Order Reaction Fit with SciPy')\n",
    "plt.xlabel('Time')\n",
    "plt.ylabel('Concentration')\n",
    "plt.legend()\n",
    "plt.show()"
   ]
  },
  {
   "cell_type": "markdown",
   "metadata": {},
   "source": [
    "### SymPy – Symbolic Mathematics"
   ]
  },
  {
   "cell_type": "code",
   "execution_count": null,
   "metadata": {},
   "outputs": [],
   "source": [
    "from sympy import symbols, Eq, solve\n",
    "\n",
    "# Define symbolic variables\n",
    "A, B, C = symbols('A B C')\n",
    "\n",
    "# Represent a chemical equilibrium reaction: A + B <=> C\n",
    "K_eq = 1.5 # Equilibrium constant\n",
    "\n",
    "# Set up the equilibrium equation\n",
    "# K_eq = [C] / ([A] * [B])\n",
    "eq = Eq(K_eq, C / (A * B))\n",
    "\n",
    "print(\"Equilibrium equation:\", eq)\n",
    "\n",
    "# Solve for the concentration of C given A=0.5 and B=0.3\n",
    "C_solved = solve(eq.subs({A: 0.5, B: 0.3}), C)\n",
    "\n",
    "print(f\"\\nConcentration of C at equilibrium: {C_solved[0]:.2f}\")"
   ]
  },
  {
   "cell_type": "markdown",
   "metadata": {},
   "source": [
    "### Pymatgen – Python Materials Genomics"
   ]
  },
  {
   "cell_type": "code",
   "execution_count": null,
   "metadata": {},
   "outputs": [],
   "source": [
    "from pymatgen.core import Element, Composition, Structure\n",
    "\n",
    "# Create a Composition object for a material\n",
    "comp = Composition(\"Fe2O3\") # Iron(III) oxide\n",
    "print(f\"Composition: {comp}\")\n",
    "print(f\"Total atoms in one formula unit: {comp.get_reduced_composition().num_atoms}\")\n",
    "print(f\"Molar Mass: {comp.get_molecular_weight():.2f} g/mol\")\n",
    "\n",
    "# Create a simple crystal structure (e.g., a cubic unit cell)\n",
    "# Structure takes lattice, species, and atomic coordinates as input\n",
    "a = 3.84 # Angstroms, lattice parameter for a simple cubic cell\n",
    "lattice = [[a, 0, 0], [0, a, 0], [0, a, 0]]\n",
    "species = [\"Fe\", \"Fe\", \"O\", \"O\", \"O\"]\n",
    "coords = [[0, 0, 0], [0.5, 0.5, 0.5], [0, 0.5, 0.5], [0.5, 0, 0.5], [0.5, 0.5, 0]]\n",
    "\n",
    "unit_cell = Structure(lattice, species, coords)\n",
    "print(\"\\nExample crystal structure created:\")\n",
    "print(unit_cell)"
   ]
  },
  {
   "cell_type": "markdown",
   "metadata": {},
   "source": [
    "### Final Note"
   ]
  },
  {
   "cell_type": "code",
   "execution_count": null,
   "metadata": {},
   "outputs": [],
   "source": [
    "print(\"\"\"\n",
    "This tutorial outlined fundamental Python concepts and provided examples of key libraries for chemical and materials science applications.\n",
    "Practice implementing these concepts in your own workflows for data handling, analysis, and automation.\n",
    "\"\"\")"
   ]
  }
 ],
 "metadata": {
  "kernelspec": {
   "display_name": "Python 3",
   "language": "python",
   "name": "python3"
  },
  "language_info": {
   "codemirror_mode": {
    "name": "ipython",
    "version": 3
   },
   "file_extension": ".py",
   "mimetype": "text/x-python",
   "name": "python",
   "nbconvert_exporter": "python",
   "pygments_lexer": "ipython3",
   "version": "3.10.12"
  }
 },
 "nbformat": 4,
 "nbformat_minor": 4
}