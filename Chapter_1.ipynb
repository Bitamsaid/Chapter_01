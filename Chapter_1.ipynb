{
  "cells": [
    {
      "cell_type": "markdown",
      "metadata": {
        "id": "view-in-github",
        "colab_type": "text"
      },
      "source": [
        "<a href=\"https://colab.research.google.com/github/Bitamsaid/Chapter_01/blob/main/Chapter_1.ipynb\" target=\"_parent\"><img src=\"https://colab.research.google.com/assets/colab-badge.svg\" alt=\"Open In Colab\"/></a>"
      ]
    },
    {
      "cell_type": "markdown",
      "metadata": {
        "id": "aI-eIWEQSn-v"
      },
      "source": [
        "# Python Fundamentals Tutorial for Chemistry Applications\n",
        "\n",
        "Welcome to the Python Fundamentals tutorial tailored for chemistry!\n",
        "\n",
        "This tutorial covers:\n",
        "- Core Python syntax essentials\n",
        "- Data types and variable use\n",
        "- Control flow with conditionals and loops\n",
        "- Functions and modular coding\n",
        "- Introduction to key scientific libraries\n",
        "- A simple workflow for chemical data processing"
      ]
    },
    {
      "cell_type": "markdown",
      "metadata": {
        "id": "dtJUzVKbSn-x"
      },
      "source": [
        "## 🚀 Setup: Installing Necessary Libraries\n",
        "\n",
        "Before running the code examples in this notebook, please ensure all required scientific and cheminformatics libraries are installed. You can run the following command in a new code cell, or directly in your terminal/command prompt.\n",
        "\n",
        "**(Note:** If you are using a virtual environment like Conda, you might need to use `conda install` instead of `pip install` for some libraries like RDKit.)"
      ]
    },
    {
      "cell_type": "code",
      "execution_count": null,
      "metadata": {
        "colab": {
          "base_uri": "https://localhost:8080/"
        },
        "id": "TAtCtMkoSn-y",
        "outputId": "d3b6a332-a11c-4ce7-a993-0cdba3ae7c4e",
        "collapsed": true
      },
      "outputs": [
        {
          "name": "stdout",
          "output_type": "stream",
          "text": [
            "Requirement already satisfied: numpy in /usr/local/lib/python3.12/dist-packages (2.0.2)\n",
            "Requirement already satisfied: pandas in /usr/local/lib/python3.12/dist-packages (2.2.2)\n",
            "Requirement already satisfied: matplotlib in /usr/local/lib/python3.12/dist-packages (3.10.0)\n",
            "Requirement already satisfied: seaborn in /usr/local/lib/python3.12/dist-packages (0.13.2)\n",
            "Requirement already satisfied: scipy in /usr/local/lib/python3.12/dist-packages (1.16.2)\n",
            "Requirement already satisfied: sympy in /usr/local/lib/python3.12/dist-packages (1.13.3)\n",
            "Collecting rdkit\n",
            "  Downloading rdkit-2025.3.6-cp312-cp312-manylinux_2_28_x86_64.whl.metadata (4.1 kB)\n",
            "Collecting pymatgen\n",
            "  Downloading pymatgen-2025.6.14-cp312-cp312-manylinux_2_17_x86_64.manylinux2014_x86_64.whl.metadata (13 kB)\n",
            "Requirement already satisfied: python-dateutil>=2.8.2 in /usr/local/lib/python3.12/dist-packages (from pandas) (2.9.0.post0)\n",
            "Requirement already satisfied: pytz>=2020.1 in /usr/local/lib/python3.12/dist-packages (from pandas) (2025.2)\n",
            "Requirement already satisfied: tzdata>=2022.7 in /usr/local/lib/python3.12/dist-packages (from pandas) (2025.2)\n",
            "Requirement already satisfied: contourpy>=1.0.1 in /usr/local/lib/python3.12/dist-packages (from matplotlib) (1.3.3)\n",
            "Requirement already satisfied: cycler>=0.10 in /usr/local/lib/python3.12/dist-packages (from matplotlib) (0.12.1)\n",
            "Requirement already satisfied: fonttools>=4.22.0 in /usr/local/lib/python3.12/dist-packages (from matplotlib) (4.60.0)\n",
            "Requirement already satisfied: kiwisolver>=1.3.1 in /usr/local/lib/python3.12/dist-packages (from matplotlib) (1.4.9)\n",
            "Requirement already satisfied: packaging>=20.0 in /usr/local/lib/python3.12/dist-packages (from matplotlib) (25.0)\n",
            "Requirement already satisfied: pillow>=8 in /usr/local/lib/python3.12/dist-packages (from matplotlib) (11.3.0)\n",
            "Requirement already satisfied: pyparsing>=2.3.1 in /usr/local/lib/python3.12/dist-packages (from matplotlib) (3.2.4)\n",
            "Requirement already satisfied: mpmath<1.4,>=1.1.0 in /usr/local/lib/python3.12/dist-packages (from sympy) (1.3.0)\n",
            "Collecting bibtexparser>=1.4.0 (from pymatgen)\n",
            "  Downloading bibtexparser-1.4.3.tar.gz (55 kB)\n",
            "\u001b[2K     \u001b[90m━━━━━━━━━━━━━━━━━━━━━━━━━━━━━━━━━━━━━━━━\u001b[0m \u001b[32m55.6/55.6 kB\u001b[0m \u001b[31m2.1 MB/s\u001b[0m eta \u001b[36m0:00:00\u001b[0m\n",
            "\u001b[?25h  Preparing metadata (setup.py) ... \u001b[?25l\u001b[?25hdone\n",
            "Requirement already satisfied: joblib>=1 in /usr/local/lib/python3.12/dist-packages (from pymatgen) (1.5.2)\n",
            "Collecting monty>=2025.1.9 (from pymatgen)\n",
            "  Downloading monty-2025.3.3-py3-none-any.whl.metadata (3.6 kB)\n",
            "Requirement already satisfied: networkx>=2.7 in /usr/local/lib/python3.12/dist-packages (from pymatgen) (3.5)\n",
            "Requirement already satisfied: orjson<4,>=3.10 in /usr/local/lib/python3.12/dist-packages (from pymatgen) (3.11.3)\n",
            "Collecting palettable>=3.3.3 (from pymatgen)\n",
            "  Downloading palettable-3.3.3-py2.py3-none-any.whl.metadata (3.3 kB)\n",
            "Requirement already satisfied: plotly>=5.0.0 in /usr/local/lib/python3.12/dist-packages (from pymatgen) (5.24.1)\n",
            "Requirement already satisfied: requests>=2.32 in /usr/local/lib/python3.12/dist-packages (from pymatgen) (2.32.4)\n",
            "Collecting ruamel.yaml>=0.17.0 (from pymatgen)\n",
            "  Downloading ruamel.yaml-0.18.15-py3-none-any.whl.metadata (25 kB)\n",
            "Collecting spglib>=2.5 (from pymatgen)\n",
            "  Downloading spglib-2.6.0-cp312-cp312-manylinux_2_17_x86_64.manylinux2014_x86_64.whl.metadata (4.2 kB)\n",
            "Requirement already satisfied: tabulate>=0.9 in /usr/local/lib/python3.12/dist-packages (from pymatgen) (0.9.0)\n",
            "Requirement already satisfied: tqdm>=4.60 in /usr/local/lib/python3.12/dist-packages (from pymatgen) (4.67.1)\n",
            "Collecting uncertainties>=3.1.4 (from pymatgen)\n",
            "  Downloading uncertainties-3.2.3-py3-none-any.whl.metadata (7.0 kB)\n",
            "Requirement already satisfied: tenacity>=6.2.0 in /usr/local/lib/python3.12/dist-packages (from plotly>=5.0.0->pymatgen) (8.5.0)\n",
            "Requirement already satisfied: six>=1.5 in /usr/local/lib/python3.12/dist-packages (from python-dateutil>=2.8.2->pandas) (1.17.0)\n",
            "Requirement already satisfied: charset_normalizer<4,>=2 in /usr/local/lib/python3.12/dist-packages (from requests>=2.32->pymatgen) (3.4.3)\n",
            "Requirement already satisfied: idna<4,>=2.5 in /usr/local/lib/python3.12/dist-packages (from requests>=2.32->pymatgen) (3.10)\n",
            "Requirement already satisfied: urllib3<3,>=1.21.1 in /usr/local/lib/python3.12/dist-packages (from requests>=2.32->pymatgen) (2.5.0)\n",
            "Requirement already satisfied: certifi>=2017.4.17 in /usr/local/lib/python3.12/dist-packages (from requests>=2.32->pymatgen) (2025.8.3)\n",
            "Collecting ruamel.yaml.clib>=0.2.7 (from ruamel.yaml>=0.17.0->pymatgen)\n",
            "  Downloading ruamel.yaml.clib-0.2.14-cp312-cp312-manylinux_2_17_x86_64.manylinux2014_x86_64.whl.metadata (3.0 kB)\n",
            "Requirement already satisfied: typing-extensions>=4.9.0 in /usr/local/lib/python3.12/dist-packages (from spglib>=2.5->pymatgen) (4.15.0)\n",
            "Downloading rdkit-2025.3.6-cp312-cp312-manylinux_2_28_x86_64.whl (36.1 MB)\n",
            "\u001b[2K   \u001b[90m━━━━━━━━━━━━━━━━━━━━━━━━━━━━━━━━━━━━━━━━\u001b[0m \u001b[32m36.1/36.1 MB\u001b[0m \u001b[31m26.4 MB/s\u001b[0m eta \u001b[36m0:00:00\u001b[0m\n",
            "\u001b[?25hDownloading pymatgen-2025.6.14-cp312-cp312-manylinux_2_17_x86_64.manylinux2014_x86_64.whl (5.1 MB)\n",
            "\u001b[2K   \u001b[90m━━━━━━━━━━━━━━━━━━━━━━━━━━━━━━━━━━━━━━━━\u001b[0m \u001b[32m5.1/5.1 MB\u001b[0m \u001b[31m42.7 MB/s\u001b[0m eta \u001b[36m0:00:00\u001b[0m\n",
            "\u001b[?25hDownloading monty-2025.3.3-py3-none-any.whl (51 kB)\n",
            "\u001b[2K   \u001b[90m━━━━━━━━━━━━━━━━━━━━━━━━━━━━━━━━━━━━━━━━\u001b[0m \u001b[32m51.9/51.9 kB\u001b[0m \u001b[31m1.7 MB/s\u001b[0m eta \u001b[36m0:00:00\u001b[0m\n",
            "\u001b[?25hDownloading palettable-3.3.3-py2.py3-none-any.whl (332 kB)\n",
            "\u001b[2K   \u001b[90m━━━━━━━━━━━━━━━━━━━━━━━━━━━━━━━━━━━━━━━━\u001b[0m \u001b[32m332.3/332.3 kB\u001b[0m \u001b[31m12.3 MB/s\u001b[0m eta \u001b[36m0:00:00\u001b[0m\n",
            "\u001b[?25hDownloading ruamel.yaml-0.18.15-py3-none-any.whl (119 kB)\n",
            "\u001b[2K   \u001b[90m━━━━━━━━━━━━━━━━━━━━━━━━━━━━━━━━━━━━━━━━\u001b[0m \u001b[32m119.7/119.7 kB\u001b[0m \u001b[31m2.5 MB/s\u001b[0m eta \u001b[36m0:00:00\u001b[0m\n",
            "\u001b[?25hDownloading spglib-2.6.0-cp312-cp312-manylinux_2_17_x86_64.manylinux2014_x86_64.whl (809 kB)\n",
            "\u001b[2K   \u001b[90m━━━━━━━━━━━━━━━━━━━━━━━━━━━━━━━━━━━━━━━━\u001b[0m \u001b[32m809.1/809.1 kB\u001b[0m \u001b[31m12.8 MB/s\u001b[0m eta \u001b[36m0:00:00\u001b[0m\n",
            "\u001b[?25hDownloading uncertainties-3.2.3-py3-none-any.whl (60 kB)\n",
            "\u001b[2K   \u001b[90m━━━━━━━━━━━━━━━━━━━━━━━━━━━━━━━━━━━━━━━━\u001b[0m \u001b[32m60.1/60.1 kB\u001b[0m \u001b[31m1.5 MB/s\u001b[0m eta \u001b[36m0:00:00\u001b[0m\n",
            "\u001b[?25hDownloading ruamel.yaml.clib-0.2.14-cp312-cp312-manylinux_2_17_x86_64.manylinux2014_x86_64.whl (753 kB)\n",
            "\u001b[2K   \u001b[90m━━━━━━━━━━━━━━━━━━━━━━━━━━━━━━━━━━━━━━━━\u001b[0m \u001b[32m753.1/753.1 kB\u001b[0m \u001b[31m20.2 MB/s\u001b[0m eta \u001b[36m0:00:00\u001b[0m\n",
            "\u001b[?25hBuilding wheels for collected packages: bibtexparser\n",
            "  Building wheel for bibtexparser (setup.py) ... \u001b[?25l\u001b[?25hdone\n",
            "  Created wheel for bibtexparser: filename=bibtexparser-1.4.3-py3-none-any.whl size=43549 sha256=b9131d574a2dbb3c30c46eba16fc7748b1a39919d554eb969a38ce8ccdfa02c5\n",
            "  Stored in directory: /root/.cache/pip/wheels/1f/7d/e9/1ff2509f13767a55df1279744adfb757f4ab94b2cbe761f56a\n",
            "Successfully built bibtexparser\n",
            "Installing collected packages: uncertainties, spglib, ruamel.yaml.clib, rdkit, palettable, bibtexparser, ruamel.yaml, monty, pymatgen\n",
            "Successfully installed bibtexparser-1.4.3 monty-2025.3.3 palettable-3.3.3 pymatgen-2025.6.14 rdkit-2025.3.6 ruamel.yaml-0.18.15 ruamel.yaml.clib-0.2.14 spglib-2.6.0 uncertainties-3.2.3\n"
          ]
        }
      ],
      "source": [
        "!pip install numpy pandas matplotlib seaborn scipy sympy rdkit pymatgen\n",
        "\n",
        "# Note: Uncomment the line above and run this cell to install the libraries.\n",
        "# If using Conda, RDKit is often installed via its own channel:\n",
        "# conda install -c conda-forge rdkit"
      ]
    },
    {
      "cell_type": "markdown",
      "metadata": {
        "id": "UG6L96zMSn-z"
      },
      "source": [
        "### Variables and Data Types"
      ]
    },
    {
      "cell_type": "code",
      "execution_count": null,
      "metadata": {
        "colab": {
          "base_uri": "https://localhost:8080/"
        },
        "id": "QIYk-8KaSn-0",
        "outputId": "a845a9d6-c7cd-4020-8aa0-e04b2c490aec",
        "collapsed": true
      },
      "outputs": [
        {
          "name": "stdout",
          "output_type": "stream",
          "text": [
            "Compound: Caffeine\n",
            "Boiling Point: 178.12 °C\n",
            "Atoms present with atomic numbers: [6, 1, 7]\n",
            "Water soluble?: False\n",
            "Total atom count: 24\n"
          ]
        }
      ],
      "source": [
        "chemical_name = \"Caffeine\"      # string to hold compound name\n",
        "boiling_point = 178.12            # float for temperature in Celsius\n",
        "atomic_numbers = [6, 1, 7]      # list of atomic numbers (C, H, N)\n",
        "is_soluble = False               # boolean to represent solubility\n",
        "atom_count = 24                   # integer number of atoms\n",
        "\n",
        "print(f\"Compound: {chemical_name}\")\n",
        "print(f\"Boiling Point: {boiling_point} °C\")\n",
        "print(f\"Atoms present with atomic numbers: {atomic_numbers}\")\n",
        "print(f\"Water soluble?: {is_soluble}\")\n",
        "print(f\"Total atom count: {atom_count}\")"
      ]
    },
    {
      "cell_type": "markdown",
      "metadata": {
        "id": "cydihKEKSn-0"
      },
      "source": [
        "### Basic Calculations and String Handling"
      ]
    },
    {
      "cell_type": "code",
      "execution_count": null,
      "metadata": {
        "colab": {
          "base_uri": "https://localhost:8080/"
        },
        "id": "wKkRrGQsSn-1",
        "outputId": "bb929eef-439f-4760-95c2-a05ae2e1a04b",
        "collapsed": true
      },
      "outputs": [
        {
          "name": "stdout",
          "output_type": "stream",
          "text": [
            "Moles in sample: 0.00644 mol\n",
            "The molecular formula of Caffeine is C8H10N4O2.\n"
          ]
        }
      ],
      "source": [
        "mass_sample = 1.25              # grams\n",
        "molecular_weight = 194.19      # g/mol (approximate MW of caffeine)\n",
        "moles = mass_sample / molecular_weight\n",
        "print(f\"Moles in sample: {moles:.5f} mol\")\n",
        "\n",
        "formula = \"C8H10N4O2\"  # caffeine molecular formula\n",
        "print(f\"The molecular formula of {chemical_name} is {formula}.\")"
      ]
    },
    {
      "cell_type": "markdown",
      "metadata": {
        "id": "dsK3dGoaSn-2"
      },
      "source": [
        "### Data Structures"
      ]
    },
    {
      "cell_type": "code",
      "execution_count": null,
      "metadata": {
        "colab": {
          "base_uri": "https://localhost:8080/"
        },
        "id": "TyDylEKvSn-3",
        "outputId": "9c8c5844-2fd4-45ae-f456-d2442bcee1c9",
        "collapsed": true
      },
      "outputs": [
        {
          "name": "stdout",
          "output_type": "stream",
          "text": [
            "Solvents: ['methanol', 'chloroform', 'hexane']\n",
            "Melting points (°C): (234.0, -64.7, -95.0)\n",
            "Compound properties dictionary: {'Caffeine': {'MP': 234.0, 'Solubility': 'low'}, 'Water': {'MP': 0.0, 'Solubility': 'high'}}\n"
          ]
        }
      ],
      "source": [
        "solvent_list = [\"methanol\", \"chloroform\", \"hexane\"]  # mutable list\n",
        "melting_points = (234.0, -64.7, -95.0)                # tuple, immutable\n",
        "compound_props = {                                    # dictionary to hold data\n",
        "    \"Caffeine\": {\"MP\": 234.0, \"Solubility\": \"low\"},\n",
        "    \"Water\": {\"MP\": 0.0, \"Solubility\": \"high\"}\n",
        "}\n",
        "print(\"Solvents:\", solvent_list)\n",
        "print(\"Melting points (°C):\", melting_points)\n",
        "print(\"Compound properties dictionary:\", compound_props)"
      ]
    },
    {
      "cell_type": "markdown",
      "metadata": {
        "id": "nRH-CTEsSn-4"
      },
      "source": [
        "### Control Flow"
      ]
    },
    {
      "cell_type": "code",
      "execution_count": null,
      "metadata": {
        "colab": {
          "base_uri": "https://localhost:8080/"
        },
        "id": "3H0-7UcwSn-4",
        "outputId": "c3e67ef0-e661-4c94-d16a-a0748a46681e",
        "collapsed": true
      },
      "outputs": [
        {
          "name": "stdout",
          "output_type": "stream",
          "text": [
            "Solution is acidic\n",
            "\n",
            "--- Loops ---\n",
            "Element: Na\n",
            "Element: Cl\n",
            "Element: O\n",
            "Element: H\n"
          ]
        }
      ],
      "source": [
        "pH = 5.6\n",
        "if pH < 7:\n",
        "    print(\"Solution is acidic\")\n",
        "elif pH == 7:\n",
        "    print(\"Solution is neutral\")\n",
        "else:\n",
        "    print(\"Solution is basic\")\n",
        "\n",
        "element_symbols = [\"Na\", \"Cl\", \"O\", \"H\"]\n",
        "print(\"\\n--- Loops ---\")\n",
        "for element in element_symbols:\n",
        "    print(f\"Element: {element}\")"
      ]
    },
    {
      "cell_type": "markdown",
      "metadata": {
        "id": "tqq8MGA7Sn-5"
      },
      "source": [
        "### Functions"
      ]
    },
    {
      "cell_type": "code",
      "execution_count": null,
      "metadata": {
        "colab": {
          "base_uri": "https://localhost:8080/"
        },
        "id": "cwvRS5UCSn-5",
        "outputId": "c500500c-31ca-48f2-b730-18051166598b"
      },
      "outputs": [
        {
          "name": "stdout",
          "output_type": "stream",
          "text": [
            "Molarity of solution: 0.200 M\n"
          ]
        }
      ],
      "source": [
        "def calculate_molarity(moles, volume_liters):\n",
        "    \"\"\"Calculate molarity given moles and solution volume in liters.\"\"\"\n",
        "    return moles / volume_liters\n",
        "\n",
        "molarity = calculate_molarity(0.1, 0.5)\n",
        "print(f\"Molarity of solution: {molarity:.3f} M\")"
      ]
    },
    {
      "cell_type": "markdown",
      "metadata": {
        "id": "Hvx-dKtfSn-6"
      },
      "source": [
        "### Using Key Scientific Libraries"
      ]
    },
    {
      "cell_type": "markdown",
      "metadata": {
        "id": "TdUNPBI0Sn-6"
      },
      "source": [
        "### Pandas – Data Handling"
      ]
    },
    {
      "cell_type": "code",
      "execution_count": null,
      "metadata": {
        "colab": {
          "base_uri": "https://localhost:8080/"
        },
        "id": "_18yyL2ZSn-6",
        "outputId": "aedd4e7f-d897-49ff-c642-d9e8f1d44a6c",
        "collapsed": true
      },
      "outputs": [
        {
          "name": "stdout",
          "output_type": "stream",
          "text": [
            "Original DataFrame:\n",
            "    Compound  Boiling Point (°C)  Molar Mass (g/mol)  Density (g/mL)\n",
            "0   Ethanol               78.37               46.07           0.789\n",
            "1   Acetone               56.05               58.08           0.784\n",
            "2   Benzene               80.10               78.11           0.879\n",
            "3  Methanol               64.70               32.04           0.791\n",
            "\n",
            "Boiling Points:\n",
            " count     4.000000\n",
            "mean     69.805000\n",
            "std      11.468904\n",
            "min      56.050000\n",
            "25%      62.537500\n",
            "50%      71.535000\n",
            "75%      78.802500\n",
            "max      80.100000\n",
            "Name: Boiling Point (°C), dtype: float64\n",
            "\n",
            "Compounds with Boiling Point > 70°C:\n",
            "   Compound  Boiling Point (°C)  Molar Mass (g/mol)  Density (g/mL)\n",
            "0  Ethanol               78.37               46.07           0.789\n",
            "2  Benzene               80.10               78.11           0.879\n"
          ]
        }
      ],
      "source": [
        "import pandas as pd\n",
        "import numpy as np\n",
        "\n",
        "data = {\n",
        "    \"Compound\": [\"Ethanol\", \"Acetone\", \"Benzene\", \"Methanol\"],\n",
        "    \"Boiling Point (°C)\": [78.37, 56.05, 80.1, 64.7],\n",
        "    \"Molar Mass (g/mol)\": [46.07, 58.08, 78.11, 32.04],\n",
        "    \"Density (g/mL)\": [0.789, 0.784, 0.879, 0.791]\n",
        "}\n",
        "df = pd.DataFrame(data)\n",
        "print(\"Original DataFrame:\\n\", df)\n",
        "\n",
        "# Select a single column\n",
        "print(\"\\nBoiling Points:\\n\", df['Boiling Point (°C)'].describe())\n",
        "\n",
        "# Filter data based on a condition\n",
        "high_bp_compounds = df[df['Boiling Point (°C)'] > 70]\n",
        "print(\"\\nCompounds with Boiling Point > 70°C:\\n\", high_bp_compounds)\n"
      ]
    },
    {
      "cell_type": "markdown",
      "metadata": {
        "id": "7Zpz19OQSn-7"
      },
      "source": [
        "### Matplotlib – Visualization"
      ]
    },
    {
      "cell_type": "code",
      "execution_count": null,
      "metadata": {
        "colab": {
          "base_uri": "https://localhost:8080/",
          "height": 570
        },
        "id": "Ebu8xstJSn-7",
        "outputId": "ee7da3c6-4134-4602-8b36-4edebcbf1bac",
        "collapsed": true
      },
      "outputs": [
        {
          "data": {
            "image/png": "[encoded data removed]",
            "text/plain": [
              "<Figure size 800x600 with 1 Axes>"
            ]
          },
          "metadata": {},
          "output_type": "display_data"
        }
      ],
      "source": [
        "import matplotlib.pyplot as plt\n",
        "\n",
        "plt.figure(figsize=(8, 6))\n",
        "plt.scatter(df['Molar Mass (g/mol)'], df['Boiling Point (°C)'], color='b', marker='o')\n",
        "plt.title('Boiling Point vs. Molar Mass', fontsize=16)\n",
        "plt.xlabel('Molar Mass (g/mol)', fontsize=12)\n",
        "plt.ylabel('Boiling Point (°C)', fontsize=12)\n",
        "plt.grid(True)\n",
        "plt.show()"
      ]
    },
    {
      "cell_type": "markdown",
      "metadata": {
        "id": "ljmg2yDQSn-7"
      },
      "source": [
        "### Seaborn – Statistical Data Visualization"
      ]
    },
    {
      "cell_type": "code",
      "execution_count": null,
      "metadata": {
        "id": "nawvhvgcSn-8"
      },
      "outputs": [],
      "source": [
        "import seaborn as sns\n",
        "\n",
        "sns.set_theme(style=\"whitegrid\")\n",
        "plt.figure(figsize=(10, 6))\n",
        "sns.barplot(x='Compound', y='Boiling Point (°C)', data=df, palette='viridis')\n",
        "plt.title('Boiling Points of Selected Compounds', fontsize=16)\n",
        "plt.xlabel('Compound', fontsize=12)\n",
        "plt.ylabel('Boiling Point (°C)', fontsize=12)\n",
        "plt.show()"
      ]
    },
    {
      "cell_type": "markdown",
      "metadata": {
        "id": "a6v8yHsPSn-8"
      },
      "source": [
        "### RDKit – Cheminformatics"
      ]
    },
    {
      "cell_type": "code",
      "execution_count": null,
      "metadata": {
        "id": "Uq-HQMtDSn-8"
      },
      "outputs": [],
      "source": [
        "from rdkit import Chem\n",
        "from rdkit.Chem import Descriptors, Draw\n",
        "\n",
        "# Create a molecule object from a SMILES string\n",
        "mol = Chem.MolFromSmiles('CCC(=O)O') # SMILES for Propanoic acid\n",
        "if mol is not None:\n",
        "    print(f\"Molecule name: Propanoic acid\")\n",
        "    print(f\"Molecular Weight: {Descriptors.MolWt(mol):.2f}\")\n",
        "    print(f\"LogP (octanol-water partition coefficient): {Descriptors.MolLogP(mol):.2f}\")\n",
        "    display(Draw.MolToImage(mol)) # Display the molecular structure in the notebook"
      ]
    },
    {
      "cell_type": "markdown",
      "metadata": {
        "id": "4rtyRYOBSn-9"
      },
      "source": [
        "### SciPy – Scientific Computing"
      ]
    },
    {
      "cell_type": "code",
      "execution_count": null,
      "metadata": {
        "id": "NXuwkEGTSn-9"
      },
      "outputs": [],
      "source": [
        "from scipy.optimize import curve_fit\n",
        "\n",
        "# Let's fit a simple model for a chemical process\n",
        "# Example: Modeling a first-order reaction decay\n",
        "def first_order_decay(t, A, k):\n",
        "    return A * np.exp(-k * t)\n",
        "\n",
        "# Generate some example data\n",
        "t_data = np.linspace(0, 10, 50)\n",
        "C_data = 10 * np.exp(-0.5 * t_data) + np.random.normal(0, 0.5, t_data.size)\n",
        "\n",
        "# Fit the model to the data using curve_fit\n",
        "popt, pcov = curve_fit(first_order_decay, t_data, C_data)\n",
        "\n",
        "A_fit, k_fit = popt\n",
        "\n",
        "print(f\"Fitted initial concentration (A): {A_fit:.2f}\")\n",
        "print(f\"Fitted rate constant (k): {k_fit:.2f}\")\n",
        "\n",
        "plt.figure()\n",
        "plt.scatter(t_data, C_data, label='Experimental Data')\n",
        "plt.plot(t_data, first_order_decay(t_data, A_fit, k_fit), color='red', label='Fitted Curve')\n",
        "plt.title('First-Order Reaction Fit with SciPy')\n",
        "plt.xlabel('Time')\n",
        "plt.ylabel('Concentration')\n",
        "plt.legend()\n",
        "plt.show()"
      ]
    },
    {
      "cell_type": "markdown",
      "metadata": {
        "id": "CXKub4WbSn-9"
      },
      "source": [
        "### SymPy – Symbolic Mathematics"
      ]
    },
    {
      "cell_type": "code",
      "execution_count": null,
      "metadata": {
        "id": "YMn_rAF7Sn-9"
      },
      "outputs": [],
      "source": [
        "from sympy import symbols, Eq, solve\n",
        "\n",
        "# Define symbolic variables\n",
        "A, B, C = symbols('A B C')\n",
        "\n",
        "# Represent a chemical equilibrium reaction: A + B <=> C\n",
        "K_eq = 1.5 # Equilibrium constant\n",
        "\n",
        "# Set up the equilibrium equation\n",
        "# K_eq = [C] / ([A] * [B])\n",
        "eq = Eq(K_eq, C / (A * B))\n",
        "\n",
        "print(\"Equilibrium equation:\", eq)\n",
        "\n",
        "# Solve for the concentration of C given A=0.5 and B=0.3\n",
        "C_solved = solve(eq.subs({A: 0.5, B: 0.3}), C)\n",
        "\n",
        "print(f\"\\nConcentration of C at equilibrium: {C_solved[0]:.2f}\")"
      ]
    },
    {
      "cell_type": "markdown",
      "metadata": {
        "id": "_ZN8bg2fSn--"
      },
      "source": [
        "### Pymatgen – Python Materials Genomics"
      ]
    },
    {
      "cell_type": "code",
      "execution_count": null,
      "metadata": {
        "colab": {
          "base_uri": "https://localhost:8080/"
        },
        "id": "rEzLEc-ESn--",
        "collapsed": true,
        "outputId": "c156cc34-ef87-42ef-c4ec-68cf278a3b6d"
      },
      "outputs": [
        {
          "output_type": "stream",
          "name": "stdout",
          "text": [
            "Composition: Fe2 O3\n",
            "Total atoms in one formula unit: 5.0\n",
            "Molar Mass: 159.69 g/mol\n",
            "\n",
            "Example crystal structure created:\n",
            "Full Formula (Fe2 O3)\n",
            "Reduced Formula: Fe2O3\n",
            "abc   :   3.840000   3.840000   3.840000\n",
            "angles:   0.000000  90.000000  90.000000\n",
            "pbc   :       True       True       True\n",
            "Sites (5)\n",
            "  #  SP      a    b    c\n",
            "---  ----  ---  ---  ---\n",
            "  0  Fe    0    0    0\n",
            "  1  Fe    0.5  0.5  0.5\n",
            "  2  O     0    0.5  0.5\n",
            "  3  O     0.5  0    0.5\n",
            "  4  O     0.5  0.5  0\n"
          ]
        }
      ],
      "source": [
        "from pymatgen.core import Composition\n",
        "\n",
        "# Create a Composition object for a material\n",
        "comp = Composition(\"Fe2O3\") # Iron(III) oxide\n",
        "\n",
        "print(f\"Composition: {comp}\")\n",
        "print(f\"Total atoms in one formula unit: {comp.num_atoms}\")\n",
        "print(f\"Molar Mass: {comp.weight:.2f} g/mol\")\n",
        "\n",
        "# Create a simple crystal structure (e.g., a cubic unit cell)\n",
        "# Structure takes lattice, species, and atomic coordinates as input\n",
        "a = 3.84 # Angstroms, lattice parameter for a simple cubic cell\n",
        "lattice = [[a, 0, 0], [0, a, 0], [0, a, 0]]\n",
        "species = [\"Fe\", \"Fe\", \"O\", \"O\", \"O\"]\n",
        "coords = [[0, 0, 0], [0.5, 0.5, 0.5], [0, 0.5, 0.5], [0.5, 0, 0.5], [0.5, 0.5, 0]]\n",
        "\n",
        "unit_cell = Structure(lattice, species, coords)\n",
        "print(\"\\nExample crystal structure created:\")\n",
        "print(unit_cell)"
      ]
    },
    {
      "cell_type": "markdown",
      "metadata": {
        "id": "crpgRsT0Sn--"
      },
      "source": [
        "### Final Note"
      ]
    },
    {
      "cell_type": "code",
      "execution_count": null,
      "metadata": {
        "id": "fiOrxDEJSn--"
      },
      "outputs": [],
      "source": [
        "print(\"\"\"\n",
        "This tutorial outlined fundamental Python concepts and provided examples of key libraries for chemical and materials science applications.\n",
        "Practice implementing these concepts in your own workflows for data handling, analysis, and automation.\n",
        "\"\"\")"
      ]
    }
  ],
  "metadata": {
    "colab": {
      "provenance": [],
      "include_colab_link": true
    },
    "kernelspec": {
      "display_name": "Python 3",
      "language": "python",
      "name": "python3"
    },
    "language_info": {
      "codemirror_mode": {
        "name": "ipython",
        "version": 3
      },
      "file_extension": ".py",
      "mimetype": "text/x-python",
      "name": "python",
      "nbconvert_exporter": "python",
      "pygments_lexer": "ipython3",
      "version": "3.10.12"
    }
  },
  "nbformat": 4,
  "nbformat_minor": 0
}